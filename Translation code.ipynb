{
 "cells": [
  {
   "cell_type": "code",
   "execution_count": 7,
   "id": "7f580d6c-39b5-4376-b521-61c06dc0053d",
   "metadata": {},
   "outputs": [
    {
     "name": "stdout",
     "output_type": "stream",
     "text": [
      "Requirement already satisfied: googletrans==4.0.0-rc1 in c:\\users\\kiit\\appdata\\local\\programs\\python\\python312\\lib\\site-packages (4.0.0rc1)Note: you may need to restart the kernel to use updated packages.\n",
      "\n",
      "Requirement already satisfied: httpx==0.13.3 in c:\\users\\kiit\\appdata\\local\\programs\\python\\python312\\lib\\site-packages (from googletrans==4.0.0-rc1) (0.13.3)\n",
      "Requirement already satisfied: certifi in c:\\users\\kiit\\appdata\\local\\programs\\python\\python312\\lib\\site-packages (from httpx==0.13.3->googletrans==4.0.0-rc1) (2024.6.2)\n",
      "Requirement already satisfied: hstspreload in c:\\users\\kiit\\appdata\\local\\programs\\python\\python312\\lib\\site-packages (from httpx==0.13.3->googletrans==4.0.0-rc1) (2024.7.1)\n",
      "Requirement already satisfied: sniffio in c:\\users\\kiit\\appdata\\local\\programs\\python\\python312\\lib\\site-packages (from httpx==0.13.3->googletrans==4.0.0-rc1) (1.3.1)\n",
      "Requirement already satisfied: chardet==3.* in c:\\users\\kiit\\appdata\\local\\programs\\python\\python312\\lib\\site-packages (from httpx==0.13.3->googletrans==4.0.0-rc1) (3.0.4)\n",
      "Requirement already satisfied: idna==2.* in c:\\users\\kiit\\appdata\\local\\programs\\python\\python312\\lib\\site-packages (from httpx==0.13.3->googletrans==4.0.0-rc1) (2.10)\n",
      "Requirement already satisfied: rfc3986<2,>=1.3 in c:\\users\\kiit\\appdata\\local\\programs\\python\\python312\\lib\\site-packages (from httpx==0.13.3->googletrans==4.0.0-rc1) (1.5.0)\n",
      "Requirement already satisfied: httpcore==0.9.* in c:\\users\\kiit\\appdata\\local\\programs\\python\\python312\\lib\\site-packages (from httpx==0.13.3->googletrans==4.0.0-rc1) (0.9.1)\n",
      "Requirement already satisfied: h11<0.10,>=0.8 in c:\\users\\kiit\\appdata\\local\\programs\\python\\python312\\lib\\site-packages (from httpcore==0.9.*->httpx==0.13.3->googletrans==4.0.0-rc1) (0.9.0)\n",
      "Requirement already satisfied: h2==3.* in c:\\users\\kiit\\appdata\\local\\programs\\python\\python312\\lib\\site-packages (from httpcore==0.9.*->httpx==0.13.3->googletrans==4.0.0-rc1) (3.2.0)\n",
      "Requirement already satisfied: hyperframe<6,>=5.2.0 in c:\\users\\kiit\\appdata\\local\\programs\\python\\python312\\lib\\site-packages (from h2==3.*->httpcore==0.9.*->httpx==0.13.3->googletrans==4.0.0-rc1) (5.2.0)\n",
      "Requirement already satisfied: hpack<4,>=3.0 in c:\\users\\kiit\\appdata\\local\\programs\\python\\python312\\lib\\site-packages (from h2==3.*->httpcore==0.9.*->httpx==0.13.3->googletrans==4.0.0-rc1) (3.0.0)\n"
     ]
    }
   ],
   "source": [
    "pip install googletrans==4.0.0-rc1\n"
   ]
  },
  {
   "cell_type": "code",
   "execution_count": null,
   "id": "43d392e2-af7d-45e6-bd12-c9b09e88e4b0",
   "metadata": {},
   "outputs": [
    {
     "name": "stdout",
     "output_type": "stream",
     "text": [
      "Successfully read the CSV file with latin1 encoding.\n"
     ]
    },
    {
     "name": "stderr",
     "output_type": "stream",
     "text": [
      "C:\\Users\\KIIT\\AppData\\Local\\Temp\\ipykernel_700\\2461441456.py:40: FutureWarning: DataFrame.applymap has been deprecated. Use DataFrame.map instead.\n",
      "  translated_df = df.applymap(translate_text)\n"
     ]
    },
    
   ],
   "source": [
    "import pandas as pd\n",
    "from googletrans import Translator\n",
    "\n",
    "# Path to your input CSV file\n",
    "input_csv_path = 'C:\\\\Users\\\\KIIT\\\\Downloads\\\\merge-csv.com__6691045f7a889.csv'\n",
    "output_csv_path = 'C:\\\\Users\\\\KIIT\\\\Downloads\\\\output.csv'  # Path for the output CSV file\n",
    "\n",
    "# Try reading the CSV file with different encodings\n",
    "encodings = ['latin1', 'iso-8859-1', 'cp1252']\n",
    "\n",
    "for encoding in encodings:\n",
    "    try:\n",
    "        df = pd.read_csv(input_csv_path, encoding=encoding, sep=',', on_bad_lines='skip')  # Adjust 'sep' as needed\n",
    "        print(f\"Successfully read the CSV file with {encoding} encoding.\")\n",
    "        break\n",
    "    except UnicodeDecodeError as e:\n",
    "        print(f\"UnicodeDecodeError with {encoding} encoding: {e}\")\n",
    "    except pd.errors.ParserError as e:\n",
    "        print(f\"ParserError with {encoding} encoding: {e}\")\n",
    "else:\n",
    "    print(\"Failed to read the CSV file with all attempted encodings.\")\n",
    "    df = None\n",
    "\n",
    "if df is not None:\n",
    "    # Initialize the translator\n",
    "    translator = Translator()\n",
    "\n",
    "    # Function to translate text\n",
    "    def translate_text(text):\n",
    "        if pd.isna(text):\n",
    "            return text\n",
    "        try:\n",
    "            translated = translator.translate(text, src='auto', dest='en')\n",
    "            return translated.text\n",
    "        except Exception as e:\n",
    "            print(f\"Error translating text: {text}\\n{e}\")\n",
    "            return text\n",
    "\n",
    "    # Apply the translation function to each column that contains text\n",
    "    translated_df = df.applymap(translate_text)\n",
    "\n",
    "    # Save the translated dataframe to a new CSV file\n",
    "    translated_df.to_csv(output_csv_path, index=False)\n",
    "\n",
    "    print(f\"Translation completed and saved to {output_csv_path}\")\n",
    "else:\n",
    "    print(\"Failed to process the CSV file.\")\n"
   ]
  },
  {
   "cell_type": "code",
   "execution_count": null,
   "id": "57ef6c7d-46b5-4630-84e6-2f0efc043d8e",
   "metadata": {},
   "outputs": [],
   "source": [
    "import pandas as pd\n",
    "from googletrans import Translator\n",
    "\n",
    "# Path to your input CSV file\n",
    "input_csv_path = 'C:\\\\Users\\\\KIIT\\\\Downloads\\\\merge-csv.com__6691045f7a889.csv'\n",
    "output_csv_path = 'C:\\\\Users\\\\KIIT\\\\Downloads\\\\output.csv'  # Path for the output CSV file\n",
    "\n",
    "# Try reading the CSV file with different encodings\n",
    "encodings = ['latin1', 'iso-8859-1', 'cp1252']\n",
    "\n",
    "for encoding in encodings:\n",
    "    try:\n",
    "        df = pd.read_csv(input_csv_path, encoding=encoding, sep=',', on_bad_lines='skip')  # Adjust 'sep' as needed\n",
    "        print(f\"Successfully read the CSV file with {encoding} encoding.\")\n",
    "        break\n",
    "    except UnicodeDecodeError as e:\n",
    "        print(f\"UnicodeDecodeError with {encoding} encoding: {e}\")\n",
    "    except pd.errors.ParserError as e:\n",
    "        print(f\"ParserError with {encoding} encoding: {e}\")\n",
    "else:\n",
    "    print(\"Failed to read the CSV file with all attempted encodings.\")\n",
    "    df = None\n",
    "\n",
    "if df is not None:\n",
    "    # Initialize the translator\n",
    "    translator = Translator()\n",
    "\n",
    "    # Function to translate text\n",
    "    def translate_text(text):\n",
    "        if pd.isna(text):\n",
    "            return text\n",
    "        try:\n",
    "            translated = translator.translate(text, src='auto', dest='en')\n",
    "            return translated.text\n",
    "        except Exception as e:\n",
    "            print(f\"Error translating text: {text}\\n{e}\")\n",
    "            return text\n",
    "\n",
    "    # Apply the translation function to each column that contains text\n",
    "    translated_df = df.apply(lambda col: col.map(translate_text))\n",
    "\n",
    "    # Save the translated dataframe to a new CSV file\n",
    "    translated_df.to_csv(output_csv_path, index=False)\n",
    "\n",
    "    print(f\"Translation completed and saved to {output_csv_path}\")\n",
    "else:\n",
    "    print(\"Failed to process the CSV file.\")\n"
   ]
  },
  {
   "cell_type": "code",
   "execution_count": null,
   "id": "df5c3f12-8483-4325-a6a0-a226f734f7a0",
   "metadata": {},
   "outputs": [],
   "source": []
  }
 ],
 "metadata": {
  "kernelspec": {
   "display_name": "Python 3 (ipykernel)",
   "language": "python",
   "name": "python3"
  },
  "language_info": {
   "codemirror_mode": {
    "name": "ipython",
    "version": 3
   },
   "file_extension": ".py",
   "mimetype": "text/x-python",
   "name": "python",
   "nbconvert_exporter": "python",
   "pygments_lexer": "ipython3",
   "version": "3.12.4"
  }
 },
 "nbformat": 4,
 "nbformat_minor": 5
}
